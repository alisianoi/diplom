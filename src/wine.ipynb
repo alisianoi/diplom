{
 "cells": [
  {
   "cell_type": "code",
   "execution_count": 1,
   "metadata": {
    "collapsed": false
   },
   "outputs": [],
   "source": [
    "%load_ext autoreload\n",
    "%autoreload 2"
   ]
  },
  {
   "cell_type": "code",
   "execution_count": 2,
   "metadata": {
    "collapsed": false
   },
   "outputs": [],
   "source": [
    "import os.path\n",
    "import numpy as np\n",
    "import matplotlib as mpl\n",
    "import matplotlib.pyplot as plt\n",
    "\n",
    "from sklearn.preprocessing import scale\n",
    "from sklearn.cluster import KMeans\n",
    "from sklearn.datasets.mldata import fetch_mldata\n",
    "from sklearn.cross_validation import StratifiedKFold"
   ]
  },
  {
   "cell_type": "code",
   "execution_count": 3,
   "metadata": {
    "collapsed": false
   },
   "outputs": [],
   "source": [
    "from tabpar import TabDataParser\n",
    "from reppar import RulesParser\n",
    "from procrules import ProcRules\n",
    "\n",
    "from rulstat import RulesStats\n",
    "from rcluster import NRules\n",
    "from logical import SimpleVoting"
   ]
  },
  {
   "cell_type": "code",
   "execution_count": 4,
   "metadata": {
    "collapsed": false
   },
   "outputs": [],
   "source": [
    "data_home = os.path.join(\"../\", \"data\")\n",
    "wine_bunch = fetch_mldata(\"wine\", data_home=data_home)\n",
    "data, labels = scale(wine_bunch['data']), wine_bunch['target']"
   ]
  },
  {
   "cell_type": "code",
   "execution_count": 5,
   "metadata": {
    "collapsed": false
   },
   "outputs": [],
   "source": [
    "skf = StratifiedKFold(y=labels, n_folds=2, shuffle=False, random_state=42)\n",
    "for train_idx, test_idx in skf: pass # get the last of the two splits"
   ]
  },
  {
   "cell_type": "code",
   "execution_count": 6,
   "metadata": {
    "collapsed": true
   },
   "outputs": [],
   "source": [
    "ftrain = os.path.join(\"../\", \"data\", \"wine-train.tab\")\n",
    "ftest = os.path.join(\"../\", \"data\", \"wine-test.tab\")\n",
    "fall = os.path.join(\"../\", \"data\", \"wine-all.tab\")\n",
    "\n",
    "frules = os.path.join(\"../\", \"data\", \"wine-lrules.html\")"
   ]
  },
  {
   "cell_type": "code",
   "execution_count": 7,
   "metadata": {
    "collapsed": false
   },
   "outputs": [],
   "source": [
    "# TabDataParser.np2tab(ftrain, data[train_idx, :], labels[train_idx])\n",
    "# TabDataParser.np2tab(ftest, data[test_idx, :], labels[test_idx])\n",
    "# TabDataParser.np2tab(fall, data, labels)"
   ]
  },
  {
   "cell_type": "code",
   "execution_count": 8,
   "metadata": {
    "collapsed": false
   },
   "outputs": [],
   "source": [
    "rp = RulesParser(frules)\n",
    "tp = TabDataParser(ftrain)\n",
    "processor = ProcRules(tp, rp)\n",
    "rules, rulesbin = processor.rules, processor.rulesbin"
   ]
  },
  {
   "cell_type": "code",
   "execution_count": 9,
   "metadata": {
    "collapsed": false
   },
   "outputs": [],
   "source": [
    "vote_mdl = SimpleVoting(rules)"
   ]
  },
  {
   "cell_type": "code",
   "execution_count": 10,
   "metadata": {
    "collapsed": false
   },
   "outputs": [],
   "source": [
    "y = vote_mdl.fit(data[test_idx, :])"
   ]
  },
  {
   "cell_type": "code",
   "execution_count": 11,
   "metadata": {
    "collapsed": false
   },
   "outputs": [],
   "source": [
    "full_correct = sum([1 for i, j in zip(y, labels[test_idx]) if i == j]) / len(labels[test_idx])"
   ]
  },
  {
   "cell_type": "code",
   "execution_count": 12,
   "metadata": {
    "collapsed": false
   },
   "outputs": [],
   "source": [
    "data_train = TabDataParser(ftrain)\n",
    "stats = RulesStats(rules)\n",
    "stats.compute_stats(data_train.data)"
   ]
  },
  {
   "cell_type": "code",
   "execution_count": 13,
   "metadata": {
    "collapsed": false
   },
   "outputs": [],
   "source": [
    "n_clusters = min([len(rules[k]) for k in rules.keys()])\n",
    "\n",
    "correct = []\n",
    "for i in range(2, n_clusters + 1):\n",
    "    km = KMeans(n_clusters=i)\n",
    "    nrules = {}\n",
    "    for k in rules.keys():\n",
    "        km.fit(rules[k])\n",
    "        nrules[k] = km.cluster_centers_\n",
    "\n",
    "    nvotemdl = SimpleVoting(nrules)\n",
    "    y = nvotemdl.fit(data[test_idx, :])\n",
    "    correct.append(sum([1 for i, j in zip(y, labels[test_idx]) if i == j]) / len(labels[test_idx]))"
   ]
  },
  {
   "cell_type": "code",
   "execution_count": 14,
   "metadata": {
    "collapsed": false
   },
   "outputs": [],
   "source": [
    "igbincorrect = []\n",
    "for i in range(2, n_clusters + 1):\n",
    "    nrules = {}\n",
    "    for k in rulesbin.keys():\n",
    "        km = NRules(i=k, n_clusters=i)\n",
    "        km.fit(rulesbin[k])\n",
    "        km.restore(data[train_idx, :], labels[train_idx], RulesStats.infogain)\n",
    "        nrules[k] = km.cluster_centers_\n",
    "\n",
    "    binvotemdl = SimpleVoting(nrules)\n",
    "    y = binvotemdl.fit(data[test_idx, :])\n",
    "    igbincorrect.append(sum([1 for i, j in zip(y, labels[test_idx]) if i == j]) / len(labels[test_idx]))"
   ]
  },
  {
   "cell_type": "code",
   "execution_count": 15,
   "metadata": {
    "collapsed": false
   },
   "outputs": [],
   "source": [
    "stbincorrect = []\n",
    "for i in range(2, n_clusters + 1):\n",
    "    nrules = {}\n",
    "    for k in rulesbin.keys():\n",
    "        km = NRules(i=k, n_clusters=i)\n",
    "        km.fit(rulesbin[k])\n",
    "        km.restore(data[train_idx, :], labels[train_idx], RulesStats.statcriterion)\n",
    "        nrules[k] = km.cluster_centers_\n",
    "\n",
    "    binvotemdl = SimpleVoting(nrules)\n",
    "    y = binvotemdl.fit(data[test_idx, :])\n",
    "    stbincorrect.append(sum([1 for i, j in zip(y, labels[test_idx]) if i == j]) / len(labels[test_idx]))"
   ]
  },
  {
   "cell_type": "code",
   "execution_count": 42,
   "metadata": {
    "collapsed": false
   },
   "outputs": [],
   "source": [
    "plt.rcdefaults()\n",
    "# rc('font', **{'family': 'serif'})\n",
    "plt.rc('text', usetex=True)\n",
    "plt.rc('text.latex', unicode=True)\n",
    "plt.rc('text.latex', preamble=r\"\\usepackage[utf8]{inputenc}\")\n",
    "plt.rc('text.latex', preamble=r\"\\usepackage[russian]{babel}\")\n",
    "plt.rcParams['font.serif'] = 'cmunst'"
   ]
  },
  {
   "cell_type": "code",
   "execution_count": 48,
   "metadata": {
    "collapsed": false
   },
   "outputs": [],
   "source": [
    "x = list(range(2, n_clusters + 1))\n",
    "cutoff = [full_correct for i in range(2, n_clusters + 1)]\n",
    "plt.plot(x, cutoff, '-r', linewidth=2, label='простое голосование')\n",
    "markersize = 4\n",
    "plt.plot(x, correct, '-ob', label=r\"вектор левых и правых границ\", markersize=markersize)\n",
    "plt.plot(x, igbincorrect, '-^g', label='бинарный вектор, IGain', markersize=markersize)\n",
    "plt.plot(x, stbincorrect, '-sc', label='бинарный вектор, Stat', markersize=markersize)\n",
    "plt.legend(loc=4)\n",
    "plt.xlabel(u\"количество логических закономерностей\")\n",
    "plt.ylabel(u\"доля верно классифицированных объектов\")\n",
    "plt.savefig(\"../LaTeX/graphs/wine.pdf\", bbox_inches=\"tight\")\n",
    "plt.show()"
   ]
  }
 ],
 "metadata": {
  "kernelspec": {
   "display_name": "Python 3",
   "language": "python",
   "name": "python3"
  },
  "language_info": {
   "codemirror_mode": {
    "name": "ipython",
    "version": 3
   },
   "file_extension": ".py",
   "mimetype": "text/x-python",
   "name": "python",
   "nbconvert_exporter": "python",
   "pygments_lexer": "ipython3",
   "version": "3.4.3"
  }
 },
 "nbformat": 4,
 "nbformat_minor": 0
}
